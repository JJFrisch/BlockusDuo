{
 "cells": [
  {
   "cell_type": "code",
   "execution_count": 15,
   "metadata": {},
   "outputs": [
    {
     "name": "stdout",
     "output_type": "stream",
     "text": [
      "<bound method NDFrame.head of                Player Type Player Levels Opponent Type Opponent Levels  \\\n",
      "0             playSmart_v2       [[0,2]]  playSmart_v1         [[0,0]]   \n",
      "playSmart_v2      [[0, 1]]    randomTurn      [[0, 1]]              40   \n",
      "randomTurn        [[0, 1]]  playSmart_v2      [[0, 1]]              51   \n",
      "\n",
      "              Player Score  Opponent Score           Score Differential  \\\n",
      "0                       70              62                            8   \n",
      "playSmart_v2            51             -11  [2, 3, 4, 5, 7, 12, 14, 16]   \n",
      "randomTurn              40              11           [4, 6, 13, 14, 15]   \n",
      "\n",
      "                       Player Pieces Left Opponent Pieces Left   # rounds  \\\n",
      "0                                    [15]             [2,4,12]  36.000000   \n",
      "playSmart_v2           [4, 6, 13, 14, 15]                   28  30.877827   \n",
      "randomTurn    [2, 3, 4, 5, 7, 12, 14, 16]                   28   5.640328   \n",
      "\n",
      "              ...  w3 - score per opp dot open corners #  \\\n",
      "0             ...                               1.000000   \n",
      "playSmart_v2  ...                              53.931837   \n",
      "randomTurn    ...                              59.946876   \n",
      "\n",
      "              w4 - score per player dot  w5 - player dot dist from opp start  \\\n",
      "0                              3.000000                             1.000000   \n",
      "playSmart_v2                  48.575654                             9.919441   \n",
      "randomTurn                    36.118401                            22.348829   \n",
      "\n",
      "              w6 - score per player dot open corners #  \\\n",
      "0                                             1.000000   \n",
      "playSmart_v2                                 34.695910   \n",
      "randomTurn                                   46.173173   \n",
      "\n",
      "              w7 - player score multiplier  w8 - opponent score multiplier  \\\n",
      "0                                 8.000000                       12.000000   \n",
      "playSmart_v2                     25.355019                       49.767345   \n",
      "randomTurn                       55.815789                       13.303650   \n",
      "\n",
      "              w9 - piece difficulty weight  only 5s rounds  \\\n",
      "0                                      NaN               0   \n",
      "playSmart_v2                           1.0               9   \n",
      "randomTurn                             2.0               6   \n",
      "\n",
      "              rounds choosing only difficult pieces  \\\n",
      "0                                                 4   \n",
      "playSmart_v2                                      1   \n",
      "randomTurn                                        8   \n",
      "\n",
      "              # of difficult pieces included  \n",
      "0                                        6.0  \n",
      "playSmart_v2                             NaN  \n",
      "randomTurn                               NaN  \n",
      "\n",
      "[3 rows x 22 columns]>\n"
     ]
    }
   ],
   "source": [
    "import pandas as pd\n",
    "df = pd.read_csv('game_data.csv', index_col=0)\n",
    "\n",
    "cols = ['Player Type','Player Levels','Opponent Type','Opponent Levels','Player Score','Opponent Score','Score Differential','Player Pieces Left','Opponent Pieces Left','# rounds','w1 - score per opp dot','w2 - opp dot dist from player start','w3 - score per opp dot open corners #','w4 - score per player dot','w5 - player dot dist from opp start','w6 - score per player dot open corners #','w7 - player score multiplier','w8 - opponent score multiplier','w9 - piece difficulty weight','only 5s rounds','rounds choosing only difficult pieces','# of difficult pieces included']\n",
    "\n",
    "print(df.head)\n"
   ]
  },
  {
   "cell_type": "code",
   "execution_count": null,
   "metadata": {},
   "outputs": [],
   "source": []
  }
 ],
 "metadata": {
  "kernelspec": {
   "display_name": "Python 3",
   "language": "python",
   "name": "python3"
  },
  "language_info": {
   "codemirror_mode": {
    "name": "ipython",
    "version": 3
   },
   "file_extension": ".py",
   "mimetype": "text/x-python",
   "name": "python",
   "nbconvert_exporter": "python",
   "pygments_lexer": "ipython3",
   "version": "3.11.9"
  }
 },
 "nbformat": 4,
 "nbformat_minor": 2
}
